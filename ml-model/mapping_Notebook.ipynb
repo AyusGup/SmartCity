{
 "cells": [
  {
   "cell_type": "code",
   "execution_count": 1,
   "id": "0b1757b2-50c1-4765-a8b9-db4ebc54362e",
   "metadata": {},
   "outputs": [],
   "source": [
    "import matplotlib.pyplot as plt\n",
    "import pandas as pd\n",
    "import numpy as np\n",
    "from sklearn.cluster import DBSCAN\n",
    "from scipy.spatial import Voronoi,voronoi_plot_2d\n",
    "from shapely.geometry import Polygon\n",
    "from shapely.geometry import MultiPolygon\n",
    "from shapely.ops import unary_union\n",
    "import geopandas as gpd\n",
    "import folium\n",
    "import mplleaflet\n",
    "import cartopy.crs as ccrs\n",
    "from datetime import datetime"
   ]
  },
  {
   "cell_type": "code",
   "execution_count": 2,
   "id": "70d1826b-1750-4f8e-b17a-7d6a5d8bd5d6",
   "metadata": {},
   "outputs": [],
   "source": [
    "df=pd.read_csv(\"delhi_data.csv\")"
   ]
  },
  {
   "cell_type": "code",
   "execution_count": null,
   "id": "6be71f14-39fb-45fd-8b58-669618ab8edc",
   "metadata": {},
   "outputs": [],
   "source": []
  },
  {
   "cell_type": "code",
   "execution_count": 3,
   "id": "915feaf9-6b6d-4589-9c77-de60cced93f6",
   "metadata": {},
   "outputs": [
    {
     "name": "stderr",
     "output_type": "stream",
     "text": [
      "C:\\Users\\ayush\\AppData\\Local\\Temp\\ipykernel_22556\\3627404429.py:2: UserWarning: Could not infer format, so each element will be parsed individually, falling back to `dateutil`. To ensure parsing is consistent and as-expected, please specify a format.\n",
      "  df['Time'] = pd.to_datetime(df['Time'])\n"
     ]
    }
   ],
   "source": [
    "# Convert 'Time' column to datetime format if not already in that format\n",
    "df['Time'] = pd.to_datetime(df['Time'])\n",
    "\n",
    "# Define the time frame in AM/PM format\n",
    "start_time = '06:00:00 AM'\n",
    "end_time = '06:00:00 PM'\n",
    "\n",
    "# Convert the time strings to datetime.time objects\n",
    "start_time = datetime.strptime(start_time, '%I:%M:%S %p').time()\n",
    "end_time = datetime.strptime(end_time, '%I:%M:%S %p').time()\n",
    "\n",
    "# Filter data within the specified time frame\n",
    "df = df[\n",
    "    (start_time <= df['Time'].dt.time) & (df['Time'].dt.time <= end_time)\n",
    "]\n"
   ]
  },
  {
   "cell_type": "code",
   "execution_count": 4,
   "id": "c2a732cc-66a7-4f51-9410-aae92e9e0fb1",
   "metadata": {},
   "outputs": [],
   "source": [
    "df=df.drop(\"Time\",axis=1)"
   ]
  },
  {
   "cell_type": "code",
   "execution_count": 5,
   "id": "2671dedd-a44e-42e8-9695-109bf8ca94c6",
   "metadata": {},
   "outputs": [
    {
     "data": {
      "text/html": [
       "<div>\n",
       "<style scoped>\n",
       "    .dataframe tbody tr th:only-of-type {\n",
       "        vertical-align: middle;\n",
       "    }\n",
       "\n",
       "    .dataframe tbody tr th {\n",
       "        vertical-align: top;\n",
       "    }\n",
       "\n",
       "    .dataframe thead th {\n",
       "        text-align: right;\n",
       "    }\n",
       "</style>\n",
       "<table border=\"1\" class=\"dataframe\">\n",
       "  <thead>\n",
       "    <tr style=\"text-align: right;\">\n",
       "      <th></th>\n",
       "      <th>Latitude</th>\n",
       "      <th>Longitude</th>\n",
       "      <th>Number</th>\n",
       "    </tr>\n",
       "  </thead>\n",
       "  <tbody>\n",
       "    <tr>\n",
       "      <th>1</th>\n",
       "      <td>28.552524</td>\n",
       "      <td>77.259932</td>\n",
       "      <td>2</td>\n",
       "    </tr>\n",
       "    <tr>\n",
       "      <th>4</th>\n",
       "      <td>28.604801</td>\n",
       "      <td>77.127429</td>\n",
       "      <td>3</td>\n",
       "    </tr>\n",
       "    <tr>\n",
       "      <th>5</th>\n",
       "      <td>28.603861</td>\n",
       "      <td>77.253639</td>\n",
       "      <td>7</td>\n",
       "    </tr>\n",
       "    <tr>\n",
       "      <th>6</th>\n",
       "      <td>28.515594</td>\n",
       "      <td>77.188770</td>\n",
       "      <td>3</td>\n",
       "    </tr>\n",
       "    <tr>\n",
       "      <th>7</th>\n",
       "      <td>28.632524</td>\n",
       "      <td>77.157224</td>\n",
       "      <td>1</td>\n",
       "    </tr>\n",
       "    <tr>\n",
       "      <th>...</th>\n",
       "      <td>...</td>\n",
       "      <td>...</td>\n",
       "      <td>...</td>\n",
       "    </tr>\n",
       "    <tr>\n",
       "      <th>193</th>\n",
       "      <td>28.614145</td>\n",
       "      <td>77.176147</td>\n",
       "      <td>1</td>\n",
       "    </tr>\n",
       "    <tr>\n",
       "      <th>194</th>\n",
       "      <td>28.569430</td>\n",
       "      <td>77.217060</td>\n",
       "      <td>5</td>\n",
       "    </tr>\n",
       "    <tr>\n",
       "      <th>195</th>\n",
       "      <td>28.618904</td>\n",
       "      <td>77.140064</td>\n",
       "      <td>8</td>\n",
       "    </tr>\n",
       "    <tr>\n",
       "      <th>197</th>\n",
       "      <td>28.683632</td>\n",
       "      <td>77.260030</td>\n",
       "      <td>9</td>\n",
       "    </tr>\n",
       "    <tr>\n",
       "      <th>198</th>\n",
       "      <td>28.681902</td>\n",
       "      <td>77.219352</td>\n",
       "      <td>10</td>\n",
       "    </tr>\n",
       "  </tbody>\n",
       "</table>\n",
       "<p>105 rows × 3 columns</p>\n",
       "</div>"
      ],
      "text/plain": [
       "      Latitude  Longitude  Number\n",
       "1    28.552524  77.259932       2\n",
       "4    28.604801  77.127429       3\n",
       "5    28.603861  77.253639       7\n",
       "6    28.515594  77.188770       3\n",
       "7    28.632524  77.157224       1\n",
       "..         ...        ...     ...\n",
       "193  28.614145  77.176147       1\n",
       "194  28.569430  77.217060       5\n",
       "195  28.618904  77.140064       8\n",
       "197  28.683632  77.260030       9\n",
       "198  28.681902  77.219352      10\n",
       "\n",
       "[105 rows x 3 columns]"
      ]
     },
     "execution_count": 5,
     "metadata": {},
     "output_type": "execute_result"
    }
   ],
   "source": [
    "df"
   ]
  },
  {
   "cell_type": "code",
   "execution_count": 6,
   "id": "28b4021b-6373-4b1e-a152-4af27c849d57",
   "metadata": {},
   "outputs": [],
   "source": [
    "\n",
    "# Function to duplicate rows based on the \"Number\" column\n",
    "def duplicate_rows(row):\n",
    "    return pd.concat([row] *int( row['Number']), axis=1).transpose()\n",
    "\n",
    "# Apply the function to each row and concatenate the results\n",
    "df = pd.concat(df.apply(duplicate_rows, axis=1).tolist(), ignore_index=True)\n"
   ]
  },
  {
   "cell_type": "code",
   "execution_count": null,
   "id": "f90ae0d4-2878-41b4-a5c8-dda7c42a7f0b",
   "metadata": {},
   "outputs": [],
   "source": []
  },
  {
   "cell_type": "code",
   "execution_count": 7,
   "id": "23c362ac-91d4-4616-ae8f-e6c1b6bf17f0",
   "metadata": {},
   "outputs": [
    {
     "data": {
      "text/html": [
       "<div>\n",
       "<style scoped>\n",
       "    .dataframe tbody tr th:only-of-type {\n",
       "        vertical-align: middle;\n",
       "    }\n",
       "\n",
       "    .dataframe tbody tr th {\n",
       "        vertical-align: top;\n",
       "    }\n",
       "\n",
       "    .dataframe thead th {\n",
       "        text-align: right;\n",
       "    }\n",
       "</style>\n",
       "<table border=\"1\" class=\"dataframe\">\n",
       "  <thead>\n",
       "    <tr style=\"text-align: right;\">\n",
       "      <th></th>\n",
       "      <th>Latitude</th>\n",
       "      <th>Longitude</th>\n",
       "    </tr>\n",
       "  </thead>\n",
       "  <tbody>\n",
       "    <tr>\n",
       "      <th>0</th>\n",
       "      <td>28.552524</td>\n",
       "      <td>77.259932</td>\n",
       "    </tr>\n",
       "    <tr>\n",
       "      <th>1</th>\n",
       "      <td>28.552524</td>\n",
       "      <td>77.259932</td>\n",
       "    </tr>\n",
       "    <tr>\n",
       "      <th>2</th>\n",
       "      <td>28.604801</td>\n",
       "      <td>77.127429</td>\n",
       "    </tr>\n",
       "    <tr>\n",
       "      <th>3</th>\n",
       "      <td>28.604801</td>\n",
       "      <td>77.127429</td>\n",
       "    </tr>\n",
       "    <tr>\n",
       "      <th>4</th>\n",
       "      <td>28.604801</td>\n",
       "      <td>77.127429</td>\n",
       "    </tr>\n",
       "    <tr>\n",
       "      <th>...</th>\n",
       "      <td>...</td>\n",
       "      <td>...</td>\n",
       "    </tr>\n",
       "    <tr>\n",
       "      <th>592</th>\n",
       "      <td>28.681902</td>\n",
       "      <td>77.219352</td>\n",
       "    </tr>\n",
       "    <tr>\n",
       "      <th>593</th>\n",
       "      <td>28.681902</td>\n",
       "      <td>77.219352</td>\n",
       "    </tr>\n",
       "    <tr>\n",
       "      <th>594</th>\n",
       "      <td>28.681902</td>\n",
       "      <td>77.219352</td>\n",
       "    </tr>\n",
       "    <tr>\n",
       "      <th>595</th>\n",
       "      <td>28.681902</td>\n",
       "      <td>77.219352</td>\n",
       "    </tr>\n",
       "    <tr>\n",
       "      <th>596</th>\n",
       "      <td>28.681902</td>\n",
       "      <td>77.219352</td>\n",
       "    </tr>\n",
       "  </tbody>\n",
       "</table>\n",
       "<p>597 rows × 2 columns</p>\n",
       "</div>"
      ],
      "text/plain": [
       "      Latitude  Longitude\n",
       "0    28.552524  77.259932\n",
       "1    28.552524  77.259932\n",
       "2    28.604801  77.127429\n",
       "3    28.604801  77.127429\n",
       "4    28.604801  77.127429\n",
       "..         ...        ...\n",
       "592  28.681902  77.219352\n",
       "593  28.681902  77.219352\n",
       "594  28.681902  77.219352\n",
       "595  28.681902  77.219352\n",
       "596  28.681902  77.219352\n",
       "\n",
       "[597 rows x 2 columns]"
      ]
     },
     "execution_count": 7,
     "metadata": {},
     "output_type": "execute_result"
    }
   ],
   "source": [
    "df.drop(\"Number\",axis=1)"
   ]
  },
  {
   "cell_type": "code",
   "execution_count": 8,
   "id": "d5f51943-6f31-447d-901e-2c1b05edd273",
   "metadata": {},
   "outputs": [],
   "source": [
    "df=df.values\n",
    "df = df[:, [1, 0]]"
   ]
  },
  {
   "cell_type": "code",
   "execution_count": 9,
   "id": "108fac79-a75c-47f2-80ac-40bb45bd85bf",
   "metadata": {},
   "outputs": [
    {
     "data": {
      "text/html": [
       "<style>#sk-container-id-1 {color: black;}#sk-container-id-1 pre{padding: 0;}#sk-container-id-1 div.sk-toggleable {background-color: white;}#sk-container-id-1 label.sk-toggleable__label {cursor: pointer;display: block;width: 100%;margin-bottom: 0;padding: 0.3em;box-sizing: border-box;text-align: center;}#sk-container-id-1 label.sk-toggleable__label-arrow:before {content: \"▸\";float: left;margin-right: 0.25em;color: #696969;}#sk-container-id-1 label.sk-toggleable__label-arrow:hover:before {color: black;}#sk-container-id-1 div.sk-estimator:hover label.sk-toggleable__label-arrow:before {color: black;}#sk-container-id-1 div.sk-toggleable__content {max-height: 0;max-width: 0;overflow: hidden;text-align: left;background-color: #f0f8ff;}#sk-container-id-1 div.sk-toggleable__content pre {margin: 0.2em;color: black;border-radius: 0.25em;background-color: #f0f8ff;}#sk-container-id-1 input.sk-toggleable__control:checked~div.sk-toggleable__content {max-height: 200px;max-width: 100%;overflow: auto;}#sk-container-id-1 input.sk-toggleable__control:checked~label.sk-toggleable__label-arrow:before {content: \"▾\";}#sk-container-id-1 div.sk-estimator input.sk-toggleable__control:checked~label.sk-toggleable__label {background-color: #d4ebff;}#sk-container-id-1 div.sk-label input.sk-toggleable__control:checked~label.sk-toggleable__label {background-color: #d4ebff;}#sk-container-id-1 input.sk-hidden--visually {border: 0;clip: rect(1px 1px 1px 1px);clip: rect(1px, 1px, 1px, 1px);height: 1px;margin: -1px;overflow: hidden;padding: 0;position: absolute;width: 1px;}#sk-container-id-1 div.sk-estimator {font-family: monospace;background-color: #f0f8ff;border: 1px dotted black;border-radius: 0.25em;box-sizing: border-box;margin-bottom: 0.5em;}#sk-container-id-1 div.sk-estimator:hover {background-color: #d4ebff;}#sk-container-id-1 div.sk-parallel-item::after {content: \"\";width: 100%;border-bottom: 1px solid gray;flex-grow: 1;}#sk-container-id-1 div.sk-label:hover label.sk-toggleable__label {background-color: #d4ebff;}#sk-container-id-1 div.sk-serial::before {content: \"\";position: absolute;border-left: 1px solid gray;box-sizing: border-box;top: 0;bottom: 0;left: 50%;z-index: 0;}#sk-container-id-1 div.sk-serial {display: flex;flex-direction: column;align-items: center;background-color: white;padding-right: 0.2em;padding-left: 0.2em;position: relative;}#sk-container-id-1 div.sk-item {position: relative;z-index: 1;}#sk-container-id-1 div.sk-parallel {display: flex;align-items: stretch;justify-content: center;background-color: white;position: relative;}#sk-container-id-1 div.sk-item::before, #sk-container-id-1 div.sk-parallel-item::before {content: \"\";position: absolute;border-left: 1px solid gray;box-sizing: border-box;top: 0;bottom: 0;left: 50%;z-index: -1;}#sk-container-id-1 div.sk-parallel-item {display: flex;flex-direction: column;z-index: 1;position: relative;background-color: white;}#sk-container-id-1 div.sk-parallel-item:first-child::after {align-self: flex-end;width: 50%;}#sk-container-id-1 div.sk-parallel-item:last-child::after {align-self: flex-start;width: 50%;}#sk-container-id-1 div.sk-parallel-item:only-child::after {width: 0;}#sk-container-id-1 div.sk-dashed-wrapped {border: 1px dashed gray;margin: 0 0.4em 0.5em 0.4em;box-sizing: border-box;padding-bottom: 0.4em;background-color: white;}#sk-container-id-1 div.sk-label label {font-family: monospace;font-weight: bold;display: inline-block;line-height: 1.2em;}#sk-container-id-1 div.sk-label-container {text-align: center;}#sk-container-id-1 div.sk-container {/* jupyter's `normalize.less` sets `[hidden] { display: none; }` but bootstrap.min.css set `[hidden] { display: none !important; }` so we also need the `!important` here to be able to override the default hidden behavior on the sphinx rendered scikit-learn.org. See: https://github.com/scikit-learn/scikit-learn/issues/21755 */display: inline-block !important;position: relative;}#sk-container-id-1 div.sk-text-repr-fallback {display: none;}</style><div id=\"sk-container-id-1\" class=\"sk-top-container\"><div class=\"sk-text-repr-fallback\"><pre>DBSCAN(eps=0.001)</pre><b>In a Jupyter environment, please rerun this cell to show the HTML representation or trust the notebook. <br />On GitHub, the HTML representation is unable to render, please try loading this page with nbviewer.org.</b></div><div class=\"sk-container\" hidden><div class=\"sk-item\"><div class=\"sk-estimator sk-toggleable\"><input class=\"sk-toggleable__control sk-hidden--visually\" id=\"sk-estimator-id-1\" type=\"checkbox\" checked><label for=\"sk-estimator-id-1\" class=\"sk-toggleable__label sk-toggleable__label-arrow\">DBSCAN</label><div class=\"sk-toggleable__content\"><pre>DBSCAN(eps=0.001)</pre></div></div></div></div></div>"
      ],
      "text/plain": [
       "DBSCAN(eps=0.001)"
      ]
     },
     "execution_count": 9,
     "metadata": {},
     "output_type": "execute_result"
    }
   ],
   "source": [
    "dbscan=DBSCAN(eps=0.001, min_samples=5)\n",
    "dbscan.fit(df)"
   ]
  },
  {
   "cell_type": "code",
   "execution_count": 10,
   "id": "477fdca9-2d84-4b71-9f6a-b0ce787c344d",
   "metadata": {},
   "outputs": [],
   "source": [
    "\n",
    "# Get cluster labels\n",
    "labels = dbscan.labels_\n",
    "\n",
    "# Separate core, boundary, and noise points\n",
    "core_samples_mask = np.zeros_like(labels, dtype=bool)\n",
    "core_samples_mask[dbscan.core_sample_indices_] = True\n",
    "\n",
    "boundary_points_mask = labels == -1  # Points on the boundary have label -1\n",
    "noise_points_mask = labels == -1\n",
    "\n",
    "core_points = df[core_samples_mask]\n",
    "boundary_points = df[boundary_points_mask]\n",
    "noise_points = df[noise_points_mask]"
   ]
  },
  {
   "cell_type": "code",
   "execution_count": 11,
   "id": "15d2717f-389b-4204-af8c-36f9f1f73472",
   "metadata": {},
   "outputs": [],
   "source": [
    "vor = Voronoi(df)\n",
    "core_regions = []\n",
    "boundary_regions = []\n",
    "noise_regions = []\n",
    "\n",
    "for i, region in enumerate(vor.regions):\n",
    "    label = dbscan.labels_[i]\n",
    "    if label != -1: \n",
    "        if label in dbscan.core_sample_indices_:\n",
    "            core_regions.append(region)\n",
    "        else:\n",
    "            boundary_regions.append(region)\n",
    "    else:\n",
    "        noise_regions.append(region)\n"
   ]
  },
  {
   "cell_type": "code",
   "execution_count": 12,
   "id": "bca955e7-bda7-43c5-b063-4dace6a4c2cf",
   "metadata": {},
   "outputs": [
    {
     "name": "stdout",
     "output_type": "stream",
     "text": [
      "Voronoi plot saved as voronoi_map.html\n"
     ]
    }
   ],
   "source": [
    "points=df\n",
    "m = folium.Map(location=[28.6139, 77.2090], zoom_start=12)\n",
    "\n",
    "for region in core_regions:\n",
    "    if -1 not in region and len(region) > 0:\n",
    "        polygon = [vor.vertices[i] for i in region]\n",
    "        polygon = np.array(polygon)\n",
    "        polygon = [point[::-1] for point in polygon]\n",
    "        polygon=Polygon(polygon)\n",
    "        area=polygon.area\n",
    "        if(area<0.002):\n",
    "            polygon=list(polygon.exterior.coords)\n",
    "            folium.Polygon(locations=polygon, color=False, fill=True, fill_color='red', fill_opacity=0.4).add_to(m)\n",
    "\n",
    "for region in boundary_regions:\n",
    "    if -1 not in region and len(region) > 0:\n",
    "        polygon = [vor.vertices[i] for i in region]\n",
    "        polygon = np.array(polygon)\n",
    "        polygon = [point[::-1] for point in polygon]\n",
    "        polygon=Polygon(polygon)\n",
    "        area=polygon.area\n",
    "        if(area<0.002):\n",
    "            polygon=list(polygon.exterior.coords)\n",
    "            folium.Polygon(locations=polygon, color=False, fill=True, fill_color='yellow', fill_opacity=0.4).add_to(m)\n",
    "\n",
    "for region in noise_regions:\n",
    "    if -1 not in region and len(region) > 0:\n",
    "        polygon = [vor.vertices[i] for i in region]\n",
    "        polygon = np.array(polygon)\n",
    "        polygon = [point[::-1] for point in polygon]\n",
    "        polygon=Polygon(polygon)\n",
    "        area=polygon.area\n",
    "        if(area<0.002):\n",
    "            polygon=list(polygon.exterior.coords)\n",
    "            folium.Polygon(locations=polygon, color=False, fill=True, fill_color='green', fill_opacity=0.4).add_to(m)\n",
    "\n",
    "\n",
    "\n",
    "# Save the map as an HTML file\n",
    "m.save('night.html')\n",
    "\n",
    "print(\"Voronoi plot saved as voronoi_map.html\")"
   ]
  },
  {
   "cell_type": "markdown",
   "id": "d606e5ac-fad6-4326-b5d0-d0cd666504c1",
   "metadata": {},
   "source": [
    "# Night time"
   ]
  },
  {
   "cell_type": "code",
   "execution_count": 13,
   "id": "e173093d-02c3-4843-bc40-16d0959357b9",
   "metadata": {},
   "outputs": [],
   "source": [
    "df=pd.read_csv(\"delhi_data.csv\")"
   ]
  },
  {
   "cell_type": "code",
   "execution_count": 14,
   "id": "396bc77e-4102-48cc-b30c-7f10305778ca",
   "metadata": {},
   "outputs": [
    {
     "name": "stderr",
     "output_type": "stream",
     "text": [
      "C:\\Users\\ayush\\AppData\\Local\\Temp\\ipykernel_22556\\4050249200.py:2: UserWarning: Could not infer format, so each element will be parsed individually, falling back to `dateutil`. To ensure parsing is consistent and as-expected, please specify a format.\n",
      "  df['Time'] = pd.to_datetime(df['Time'])\n"
     ]
    }
   ],
   "source": [
    "# Convert 'Time' column to datetime format if not already in that format\n",
    "df['Time'] = pd.to_datetime(df['Time'])\n",
    "\n",
    "# Define the time frame in AM/PM format\n",
    "start_time = '06:00:00 AM'\n",
    "end_time = '06:00:00 PM'\n",
    "\n",
    "# Convert the time strings to datetime.time objects\n",
    "start_time = datetime.strptime(start_time, '%I:%M:%S %p').time()\n",
    "end_time = datetime.strptime(end_time, '%I:%M:%S %p').time()\n",
    "\n",
    "# Filter data within the specified time frame\n",
    "df = df[\n",
    "    (start_time > df['Time'].dt.time) & (df['Time'].dt.time< end_time)\n",
    "]\n"
   ]
  },
  {
   "cell_type": "code",
   "execution_count": 15,
   "id": "753f8082-98fa-4c6e-a40f-fc53100df7ba",
   "metadata": {},
   "outputs": [],
   "source": [
    "df=df.drop(\"Time\",axis=1)"
   ]
  },
  {
   "cell_type": "code",
   "execution_count": 16,
   "id": "d2927d72-042c-4ffd-90d4-a015616adacb",
   "metadata": {},
   "outputs": [],
   "source": [
    "\n",
    "# Function to duplicate rows based on the \"Number\" column\n",
    "def duplicate_rows(row):\n",
    "    return pd.concat([row] *int( row['Number']), axis=1).transpose()\n",
    "\n",
    "# Apply the function to each row and concatenate the results\n",
    "df = pd.concat(df.apply(duplicate_rows, axis=1).tolist(), ignore_index=True)\n"
   ]
  },
  {
   "cell_type": "code",
   "execution_count": 17,
   "id": "3369b7a4-1be6-4092-848f-f116156a5f05",
   "metadata": {},
   "outputs": [
    {
     "data": {
      "text/html": [
       "<div>\n",
       "<style scoped>\n",
       "    .dataframe tbody tr th:only-of-type {\n",
       "        vertical-align: middle;\n",
       "    }\n",
       "\n",
       "    .dataframe tbody tr th {\n",
       "        vertical-align: top;\n",
       "    }\n",
       "\n",
       "    .dataframe thead th {\n",
       "        text-align: right;\n",
       "    }\n",
       "</style>\n",
       "<table border=\"1\" class=\"dataframe\">\n",
       "  <thead>\n",
       "    <tr style=\"text-align: right;\">\n",
       "      <th></th>\n",
       "      <th>Latitude</th>\n",
       "      <th>Longitude</th>\n",
       "    </tr>\n",
       "  </thead>\n",
       "  <tbody>\n",
       "    <tr>\n",
       "      <th>0</th>\n",
       "      <td>28.704914</td>\n",
       "      <td>77.123112</td>\n",
       "    </tr>\n",
       "    <tr>\n",
       "      <th>1</th>\n",
       "      <td>28.704914</td>\n",
       "      <td>77.123112</td>\n",
       "    </tr>\n",
       "    <tr>\n",
       "      <th>2</th>\n",
       "      <td>28.564348</td>\n",
       "      <td>77.199010</td>\n",
       "    </tr>\n",
       "    <tr>\n",
       "      <th>3</th>\n",
       "      <td>28.564348</td>\n",
       "      <td>77.199010</td>\n",
       "    </tr>\n",
       "    <tr>\n",
       "      <th>4</th>\n",
       "      <td>28.564348</td>\n",
       "      <td>77.199010</td>\n",
       "    </tr>\n",
       "    <tr>\n",
       "      <th>...</th>\n",
       "      <td>...</td>\n",
       "      <td>...</td>\n",
       "    </tr>\n",
       "    <tr>\n",
       "      <th>253</th>\n",
       "      <td>28.528233</td>\n",
       "      <td>77.144014</td>\n",
       "    </tr>\n",
       "    <tr>\n",
       "      <th>254</th>\n",
       "      <td>28.528233</td>\n",
       "      <td>77.144014</td>\n",
       "    </tr>\n",
       "    <tr>\n",
       "      <th>255</th>\n",
       "      <td>28.528233</td>\n",
       "      <td>77.144014</td>\n",
       "    </tr>\n",
       "    <tr>\n",
       "      <th>256</th>\n",
       "      <td>28.528233</td>\n",
       "      <td>77.144014</td>\n",
       "    </tr>\n",
       "    <tr>\n",
       "      <th>257</th>\n",
       "      <td>28.528233</td>\n",
       "      <td>77.144014</td>\n",
       "    </tr>\n",
       "  </tbody>\n",
       "</table>\n",
       "<p>258 rows × 2 columns</p>\n",
       "</div>"
      ],
      "text/plain": [
       "      Latitude  Longitude\n",
       "0    28.704914  77.123112\n",
       "1    28.704914  77.123112\n",
       "2    28.564348  77.199010\n",
       "3    28.564348  77.199010\n",
       "4    28.564348  77.199010\n",
       "..         ...        ...\n",
       "253  28.528233  77.144014\n",
       "254  28.528233  77.144014\n",
       "255  28.528233  77.144014\n",
       "256  28.528233  77.144014\n",
       "257  28.528233  77.144014\n",
       "\n",
       "[258 rows x 2 columns]"
      ]
     },
     "execution_count": 17,
     "metadata": {},
     "output_type": "execute_result"
    }
   ],
   "source": [
    "df.drop(\"Number\",axis=1)\n"
   ]
  },
  {
   "cell_type": "code",
   "execution_count": 18,
   "id": "a8e78221-0d17-4789-b9d5-70d2d7bb3e60",
   "metadata": {},
   "outputs": [],
   "source": [
    "df=df.values\n",
    "df = df[:, [1, 0]]"
   ]
  },
  {
   "cell_type": "code",
   "execution_count": 19,
   "id": "fd4d3833-41c9-4840-bf4e-18d3fe0844ed",
   "metadata": {},
   "outputs": [
    {
     "data": {
      "text/html": [
       "<style>#sk-container-id-2 {color: black;}#sk-container-id-2 pre{padding: 0;}#sk-container-id-2 div.sk-toggleable {background-color: white;}#sk-container-id-2 label.sk-toggleable__label {cursor: pointer;display: block;width: 100%;margin-bottom: 0;padding: 0.3em;box-sizing: border-box;text-align: center;}#sk-container-id-2 label.sk-toggleable__label-arrow:before {content: \"▸\";float: left;margin-right: 0.25em;color: #696969;}#sk-container-id-2 label.sk-toggleable__label-arrow:hover:before {color: black;}#sk-container-id-2 div.sk-estimator:hover label.sk-toggleable__label-arrow:before {color: black;}#sk-container-id-2 div.sk-toggleable__content {max-height: 0;max-width: 0;overflow: hidden;text-align: left;background-color: #f0f8ff;}#sk-container-id-2 div.sk-toggleable__content pre {margin: 0.2em;color: black;border-radius: 0.25em;background-color: #f0f8ff;}#sk-container-id-2 input.sk-toggleable__control:checked~div.sk-toggleable__content {max-height: 200px;max-width: 100%;overflow: auto;}#sk-container-id-2 input.sk-toggleable__control:checked~label.sk-toggleable__label-arrow:before {content: \"▾\";}#sk-container-id-2 div.sk-estimator input.sk-toggleable__control:checked~label.sk-toggleable__label {background-color: #d4ebff;}#sk-container-id-2 div.sk-label input.sk-toggleable__control:checked~label.sk-toggleable__label {background-color: #d4ebff;}#sk-container-id-2 input.sk-hidden--visually {border: 0;clip: rect(1px 1px 1px 1px);clip: rect(1px, 1px, 1px, 1px);height: 1px;margin: -1px;overflow: hidden;padding: 0;position: absolute;width: 1px;}#sk-container-id-2 div.sk-estimator {font-family: monospace;background-color: #f0f8ff;border: 1px dotted black;border-radius: 0.25em;box-sizing: border-box;margin-bottom: 0.5em;}#sk-container-id-2 div.sk-estimator:hover {background-color: #d4ebff;}#sk-container-id-2 div.sk-parallel-item::after {content: \"\";width: 100%;border-bottom: 1px solid gray;flex-grow: 1;}#sk-container-id-2 div.sk-label:hover label.sk-toggleable__label {background-color: #d4ebff;}#sk-container-id-2 div.sk-serial::before {content: \"\";position: absolute;border-left: 1px solid gray;box-sizing: border-box;top: 0;bottom: 0;left: 50%;z-index: 0;}#sk-container-id-2 div.sk-serial {display: flex;flex-direction: column;align-items: center;background-color: white;padding-right: 0.2em;padding-left: 0.2em;position: relative;}#sk-container-id-2 div.sk-item {position: relative;z-index: 1;}#sk-container-id-2 div.sk-parallel {display: flex;align-items: stretch;justify-content: center;background-color: white;position: relative;}#sk-container-id-2 div.sk-item::before, #sk-container-id-2 div.sk-parallel-item::before {content: \"\";position: absolute;border-left: 1px solid gray;box-sizing: border-box;top: 0;bottom: 0;left: 50%;z-index: -1;}#sk-container-id-2 div.sk-parallel-item {display: flex;flex-direction: column;z-index: 1;position: relative;background-color: white;}#sk-container-id-2 div.sk-parallel-item:first-child::after {align-self: flex-end;width: 50%;}#sk-container-id-2 div.sk-parallel-item:last-child::after {align-self: flex-start;width: 50%;}#sk-container-id-2 div.sk-parallel-item:only-child::after {width: 0;}#sk-container-id-2 div.sk-dashed-wrapped {border: 1px dashed gray;margin: 0 0.4em 0.5em 0.4em;box-sizing: border-box;padding-bottom: 0.4em;background-color: white;}#sk-container-id-2 div.sk-label label {font-family: monospace;font-weight: bold;display: inline-block;line-height: 1.2em;}#sk-container-id-2 div.sk-label-container {text-align: center;}#sk-container-id-2 div.sk-container {/* jupyter's `normalize.less` sets `[hidden] { display: none; }` but bootstrap.min.css set `[hidden] { display: none !important; }` so we also need the `!important` here to be able to override the default hidden behavior on the sphinx rendered scikit-learn.org. See: https://github.com/scikit-learn/scikit-learn/issues/21755 */display: inline-block !important;position: relative;}#sk-container-id-2 div.sk-text-repr-fallback {display: none;}</style><div id=\"sk-container-id-2\" class=\"sk-top-container\"><div class=\"sk-text-repr-fallback\"><pre>DBSCAN(eps=0.001, min_samples=8)</pre><b>In a Jupyter environment, please rerun this cell to show the HTML representation or trust the notebook. <br />On GitHub, the HTML representation is unable to render, please try loading this page with nbviewer.org.</b></div><div class=\"sk-container\" hidden><div class=\"sk-item\"><div class=\"sk-estimator sk-toggleable\"><input class=\"sk-toggleable__control sk-hidden--visually\" id=\"sk-estimator-id-2\" type=\"checkbox\" checked><label for=\"sk-estimator-id-2\" class=\"sk-toggleable__label sk-toggleable__label-arrow\">DBSCAN</label><div class=\"sk-toggleable__content\"><pre>DBSCAN(eps=0.001, min_samples=8)</pre></div></div></div></div></div>"
      ],
      "text/plain": [
       "DBSCAN(eps=0.001, min_samples=8)"
      ]
     },
     "execution_count": 19,
     "metadata": {},
     "output_type": "execute_result"
    }
   ],
   "source": [
    "dbscan=DBSCAN(eps=0.001, min_samples=8)\n",
    "dbscan.fit(df)"
   ]
  },
  {
   "cell_type": "code",
   "execution_count": 20,
   "id": "7335bbc2-4ec5-433f-9e1a-ebc14de3a80d",
   "metadata": {},
   "outputs": [],
   "source": [
    "\n",
    "# Get cluster labels\n",
    "labels = dbscan.labels_\n",
    "\n",
    "# Separate core, boundary, and noise points\n",
    "core_samples_mask = np.zeros_like(labels, dtype=bool)\n",
    "core_samples_mask[dbscan.core_sample_indices_] = True\n",
    "\n",
    "boundary_points_mask = labels == -1  # Points on the boundary have label -1\n",
    "noise_points_mask = labels == -1\n",
    "\n",
    "core_points = df[core_samples_mask]\n",
    "boundary_points = df[boundary_points_mask]\n",
    "noise_points = df[noise_points_mask]"
   ]
  },
  {
   "cell_type": "code",
   "execution_count": 21,
   "id": "a17c753e-81b6-4d32-923f-a5a6edc088f7",
   "metadata": {},
   "outputs": [],
   "source": [
    "vor = Voronoi(df)\n",
    "core_regions = []\n",
    "boundary_regions = []\n",
    "noise_regions = []\n",
    "\n",
    "for i, region in enumerate(vor.regions):\n",
    "    label = dbscan.labels_[i]\n",
    "    if label != -1: \n",
    "        if label in dbscan.core_sample_indices_:\n",
    "            core_regions.append(region)\n",
    "        else:\n",
    "            boundary_regions.append(region)\n",
    "    else:\n",
    "        noise_regions.append(region)\n"
   ]
  },
  {
   "cell_type": "code",
   "execution_count": 22,
   "id": "5e0461ee-2363-411a-95ac-d0ca4efafb27",
   "metadata": {},
   "outputs": [
    {
     "name": "stdout",
     "output_type": "stream",
     "text": [
      "Voronoi plot saved as voronoi_map.html\n"
     ]
    }
   ],
   "source": [
    "points=df\n",
    "m = folium.Map(location=[28.6139, 77.2090], zoom_start=12)\n",
    "\n",
    "for region in core_regions:\n",
    "    if -1 not in region and len(region) > 0:\n",
    "        polygon = [vor.vertices[i] for i in region]\n",
    "        polygon = np.array(polygon)\n",
    "        polygon = [point[::-1] for point in polygon]\n",
    "        polygon=Polygon(polygon)\n",
    "        area=polygon.area\n",
    "        if(area<0.002):\n",
    "            polygon=list(polygon.exterior.coords)\n",
    "            folium.Polygon(locations=polygon, color=False, fill=True, fill_color='red', fill_opacity=0.4).add_to(m)\n",
    "\n",
    "for region in boundary_regions:\n",
    "    if -1 not in region and len(region) > 0:\n",
    "        polygon = [vor.vertices[i] for i in region]\n",
    "        polygon = np.array(polygon)\n",
    "        polygon = [point[::-1] for point in polygon]\n",
    "        polygon=Polygon(polygon)\n",
    "        area=polygon.area\n",
    "        if(area<0.002):\n",
    "            polygon=list(polygon.exterior.coords)\n",
    "            folium.Polygon(locations=polygon, color=False, fill=True, fill_color='yellow', fill_opacity=0.4).add_to(m)\n",
    "\n",
    "for region in noise_regions:\n",
    "    if -1 not in region and len(region) > 0:\n",
    "        polygon = [vor.vertices[i] for i in region]\n",
    "        polygon = np.array(polygon)\n",
    "        polygon = [point[::-1] for point in polygon]\n",
    "        polygon=Polygon(polygon)\n",
    "        area=polygon.area\n",
    "        if(area<0.002):\n",
    "            polygon=list(polygon.exterior.coords)\n",
    "            folium.Polygon(locations=polygon, color=False, fill=True, fill_color='green', fill_opacity=0.4).add_to(m)\n",
    "\n",
    "\n",
    "\n",
    "# Save the map as an HTML file\n",
    "m.save('day.html')\n",
    "\n",
    "print(\"Voronoi plot saved as voronoi_map.html\")"
   ]
  },
  {
   "cell_type": "code",
   "execution_count": null,
   "id": "4f47544c-18f0-4b3d-b666-37cd99c44fee",
   "metadata": {},
   "outputs": [],
   "source": []
  }
 ],
 "metadata": {
  "kernelspec": {
   "display_name": "Python 3 (ipykernel)",
   "language": "python",
   "name": "python3"
  },
  "language_info": {
   "codemirror_mode": {
    "name": "ipython",
    "version": 3
   },
   "file_extension": ".py",
   "mimetype": "text/x-python",
   "name": "python",
   "nbconvert_exporter": "python",
   "pygments_lexer": "ipython3",
   "version": "3.12.1"
  }
 },
 "nbformat": 4,
 "nbformat_minor": 5
}
